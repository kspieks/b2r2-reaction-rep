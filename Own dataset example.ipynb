{
 "cells": [
  {
   "cell_type": "markdown",
   "id": "aa8a676b",
   "metadata": {},
   "source": [
    "# Own dataset example\n",
    "This example illustrates how you can generate the 3 B2R2 representations for your own dataset.\n",
    "\n",
    "You need to specify nuclear charges and coordinates of all reactant and product molecules. If you want to specify additional molecules, e.g. reagents, you can specify these together with the reactants."
   ]
  },
  {
   "cell_type": "code",
   "execution_count": 1,
   "id": "bb9f8514",
   "metadata": {},
   "outputs": [],
   "source": [
    "from src import b2r2"
   ]
  },
  {
   "cell_type": "markdown",
   "id": "eb0326e7",
   "metadata": {},
   "source": [
    "## Load dataset\n",
    "Here I will use the qml package to load the nuclear charges and coordinates from xyz files, but this is not necessary as long as nuclear charges and coordinates are provided."
   ]
  },
  {
   "cell_type": "code",
   "execution_count": 2,
   "id": "4a0c58a1",
   "metadata": {},
   "outputs": [],
   "source": [
    "import qml"
   ]
  },
  {
   "cell_type": "code",
   "execution_count": 3,
   "id": "dd4059c2",
   "metadata": {},
   "outputs": [],
   "source": [
    "from glob import glob"
   ]
  },
  {
   "cell_type": "code",
   "execution_count": 4,
   "id": "18e2e338",
   "metadata": {},
   "outputs": [],
   "source": [
    "reactants = sorted(glob(\"data/grambow-barriers/xyz/reactant_*.xyz\"))"
   ]
  },
  {
   "cell_type": "code",
   "execution_count": 5,
   "id": "ba801997",
   "metadata": {},
   "outputs": [],
   "source": [
    "products = sorted(glob(\"data/grambow-barriers/xyz/product_*.xyz\"))"
   ]
  },
  {
   "cell_type": "code",
   "execution_count": 6,
   "id": "7f1eeadf",
   "metadata": {},
   "outputs": [
    {
     "data": {
      "text/plain": [
       "11961"
      ]
     },
     "execution_count": 6,
     "metadata": {},
     "output_type": "execute_result"
    }
   ],
   "source": [
    "len(reactants)"
   ]
  },
  {
   "cell_type": "code",
   "execution_count": 7,
   "id": "16badf18",
   "metadata": {},
   "outputs": [
    {
     "data": {
      "text/plain": [
       "11961"
      ]
     },
     "execution_count": 7,
     "metadata": {},
     "output_type": "execute_result"
    }
   ],
   "source": [
    "len(products)"
   ]
  },
  {
   "cell_type": "code",
   "execution_count": 8,
   "id": "ce1810d9",
   "metadata": {},
   "outputs": [],
   "source": [
    "# cut for demo"
   ]
  },
  {
   "cell_type": "code",
   "execution_count": 9,
   "id": "2309a35c",
   "metadata": {},
   "outputs": [],
   "source": [
    "reactants = reactants[:100]"
   ]
  },
  {
   "cell_type": "code",
   "execution_count": 10,
   "id": "e66d6b59",
   "metadata": {},
   "outputs": [],
   "source": [
    "products = products[:100]"
   ]
  },
  {
   "cell_type": "code",
   "execution_count": 11,
   "id": "ae3293db",
   "metadata": {},
   "outputs": [],
   "source": [
    "mols_reactants = [qml.Compound(x) for x in reactants]"
   ]
  },
  {
   "cell_type": "markdown",
   "id": "41ebb46c",
   "metadata": {},
   "source": [
    "Here we have a single reactant and product, but the framework is designed to handle multiple reactants and products. Therefore provide each reactant and product as a sublist."
   ]
  },
  {
   "cell_type": "code",
   "execution_count": 12,
   "id": "03faf7d3",
   "metadata": {},
   "outputs": [],
   "source": [
    "ncharges_reactants = [[x.nuclear_charges] for x in mols_reactants]"
   ]
  },
  {
   "cell_type": "code",
   "execution_count": 13,
   "id": "820fcdd9",
   "metadata": {},
   "outputs": [],
   "source": [
    "coords_reactants = [[x.coordinates] for x in mols_reactants]"
   ]
  },
  {
   "cell_type": "code",
   "execution_count": 14,
   "id": "1d79df99",
   "metadata": {},
   "outputs": [],
   "source": [
    "mols_products = [qml.Compound(x) for x in products]"
   ]
  },
  {
   "cell_type": "code",
   "execution_count": 15,
   "id": "9ab73728",
   "metadata": {},
   "outputs": [],
   "source": [
    "ncharges_products = [[x.nuclear_charges] for x in mols_products]"
   ]
  },
  {
   "cell_type": "code",
   "execution_count": 16,
   "id": "3c7eebc9",
   "metadata": {},
   "outputs": [],
   "source": [
    "coords_products = [[x.coordinates] for x in mols_products]"
   ]
  },
  {
   "cell_type": "code",
   "execution_count": 17,
   "id": "2cfe88af",
   "metadata": {},
   "outputs": [],
   "source": [
    "import numpy as np"
   ]
  },
  {
   "cell_type": "code",
   "execution_count": 18,
   "id": "e58a1769",
   "metadata": {},
   "outputs": [],
   "source": [
    "unique_ncharges = np.unique(np.concatenate([x[0] for x in\n",
    "                                            ncharges_reactants]))"
   ]
  },
  {
   "cell_type": "code",
   "execution_count": 19,
   "id": "90a6bdf5",
   "metadata": {},
   "outputs": [
    {
     "data": {
      "text/plain": [
       "array([1, 6, 7, 8])"
      ]
     },
     "execution_count": 19,
     "metadata": {},
     "output_type": "execute_result"
    }
   ],
   "source": [
    "unique_ncharges"
   ]
  },
  {
   "cell_type": "markdown",
   "id": "e1c03b68",
   "metadata": {},
   "source": [
    "## Get representations"
   ]
  },
  {
   "cell_type": "code",
   "execution_count": 22,
   "id": "28b441b5",
   "metadata": {},
   "outputs": [
    {
     "name": "stdout",
     "output_type": "stream",
     "text": [
      "(100, 208)\n"
     ]
    }
   ],
   "source": [
    "b2r2_n = b2r2.get_b2r2_n(ncharges_reactants, ncharges_products,\n",
    "                        coords_reactants, coords_products,\n",
    "                         elements=unique_ncharges, Rcut=3\n",
    "                        )"
   ]
  },
  {
   "cell_type": "code",
   "execution_count": 23,
   "id": "8f810735",
   "metadata": {},
   "outputs": [
    {
     "data": {
      "text/plain": [
       "(100, 208)"
      ]
     },
     "execution_count": 23,
     "metadata": {},
     "output_type": "execute_result"
    }
   ],
   "source": [
    "b2r2_n.shape"
   ]
  },
  {
   "cell_type": "code",
   "execution_count": 24,
   "id": "8e02b882",
   "metadata": {},
   "outputs": [],
   "source": [
    "b2r2_l = b2r2.get_b2r2_l(ncharges_reactants, ncharges_products,\n",
    "                        coords_reactants, coords_products,\n",
    "                         elements=unique_ncharges, Rcut=3\n",
    "                        )"
   ]
  },
  {
   "cell_type": "code",
   "execution_count": 25,
   "id": "90c0e72f",
   "metadata": {},
   "outputs": [
    {
     "data": {
      "text/plain": [
       "(100, 400)"
      ]
     },
     "execution_count": 25,
     "metadata": {},
     "output_type": "execute_result"
    }
   ],
   "source": [
    "b2r2_l.shape"
   ]
  },
  {
   "cell_type": "code",
   "execution_count": 26,
   "id": "c7022fbb",
   "metadata": {},
   "outputs": [],
   "source": [
    "b2r2_a = b2r2.get_b2r2_a(ncharges_reactants, ncharges_products,\n",
    "                        coords_reactants, coords_products,\n",
    "                         elements=unique_ncharges, Rcut=3\n",
    "                        )"
   ]
  },
  {
   "cell_type": "code",
   "execution_count": 27,
   "id": "e77b3c90",
   "metadata": {},
   "outputs": [
    {
     "data": {
      "text/plain": [
       "(100, 1000)"
      ]
     },
     "execution_count": 27,
     "metadata": {},
     "output_type": "execute_result"
    }
   ],
   "source": [
    "b2r2_a.shape"
   ]
  },
  {
   "cell_type": "code",
   "execution_count": null,
   "id": "62e107ad",
   "metadata": {},
   "outputs": [],
   "source": []
  }
 ],
 "metadata": {
  "kernelspec": {
   "display_name": "Python 3 (ipykernel)",
   "language": "python",
   "name": "python3"
  },
  "language_info": {
   "codemirror_mode": {
    "name": "ipython",
    "version": 3
   },
   "file_extension": ".py",
   "mimetype": "text/x-python",
   "name": "python",
   "nbconvert_exporter": "python",
   "pygments_lexer": "ipython3",
   "version": "3.7.9"
  }
 },
 "nbformat": 4,
 "nbformat_minor": 5
}
