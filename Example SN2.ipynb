{
 "cells": [
  {
   "cell_type": "markdown",
   "metadata": {},
   "source": [
    "# Example\n",
    "The below is an example of how to use the various reaction representations provided in this github repo.\n",
    "The four datasets (SN2, Grambow, hfb and e.e.) are available with equivalent functions."
   ]
  },
  {
   "cell_type": "code",
   "execution_count": 1,
   "metadata": {},
   "outputs": [],
   "source": [
    "import numpy as np"
   ]
  },
  {
   "cell_type": "code",
   "execution_count": 2,
   "metadata": {},
   "outputs": [],
   "source": [
    "from src.reaction_reps import QML, DScribe\n",
    "from src.learning import opt_hyperparams, learning_curve"
   ]
  },
  {
   "cell_type": "code",
   "execution_count": null,
   "metadata": {},
   "outputs": [],
   "source": [
    "import matplotlib.pyplot as plt"
   ]
  },
  {
   "cell_type": "code",
   "execution_count": 3,
   "metadata": {},
   "outputs": [],
   "source": [
    "qml = QML()\n",
    "qml.get_sn2_data()"
   ]
  },
  {
   "cell_type": "code",
   "execution_count": 4,
   "metadata": {},
   "outputs": [],
   "source": [
    "energies = qml.energies"
   ]
  },
  {
   "cell_type": "code",
   "execution_count": 6,
   "metadata": {},
   "outputs": [],
   "source": [
    "slatm_2_r, slatm_2_p, slatm_2_d = qml.get_SLATM_twobody()"
   ]
  },
  {
   "cell_type": "code",
   "execution_count": 7,
   "metadata": {},
   "outputs": [],
   "source": [
    "slatm_r, slatm_p, slatm_d = qml.get_SLATM()"
   ]
  },
  {
   "cell_type": "code",
   "execution_count": 8,
   "metadata": {},
   "outputs": [],
   "source": [
    "b2r2_l = qml.get_b2r2_linear_bags(Rcut=6)"
   ]
  },
  {
   "cell_type": "code",
   "execution_count": 9,
   "metadata": {},
   "outputs": [],
   "source": [
    "cm_r, cm_p, cm_rp = qml.get_CM()"
   ]
  },
  {
   "cell_type": "code",
   "execution_count": 10,
   "metadata": {},
   "outputs": [],
   "source": [
    "bob_r, bob_p, bob_rp = qml.get_BoB()"
   ]
  },
  {
   "cell_type": "code",
   "execution_count": 11,
   "metadata": {},
   "outputs": [],
   "source": [
    "fchl_r, fchl_p, fchl_d = qml.get_FCHL19()"
   ]
  },
  {
   "cell_type": "code",
   "execution_count": 12,
   "metadata": {},
   "outputs": [],
   "source": [
    "ds = DScribe()\n",
    "ds.get_sn2_data()\n",
    "soap_r, soap_p, soap_d = ds.get_SOAP()"
   ]
  },
  {
   "cell_type": "code",
   "execution_count": 13,
   "metadata": {},
   "outputs": [],
   "source": [
    "# find hyperparams in SI (or use opt_hyperparams function)"
   ]
  },
  {
   "cell_type": "code",
   "execution_count": 14,
   "metadata": {},
   "outputs": [
    {
     "name": "stdout",
     "output_type": "stream",
     "text": [
      "CV iteration 0\n",
      "CV iteration 1\n",
      "CV iteration 2\n",
      "CV iteration 3\n",
      "CV iteration 4\n",
      "CV iteration 5\n",
      "CV iteration 6\n",
      "CV iteration 7\n",
      "CV iteration 8\n",
      "CV iteration 9\n"
     ]
    }
   ],
   "source": [
    "train_sizes, mae_slatm_2_d, std_slatm_2_d = learning_curve(slatm_2_d, energies, CV=10, sigma=100, l2reg=1e-10)"
   ]
  },
  {
   "cell_type": "code",
   "execution_count": 15,
   "metadata": {},
   "outputs": [
    {
     "name": "stdout",
     "output_type": "stream",
     "text": [
      "CV iteration 0\n",
      "CV iteration 1\n",
      "CV iteration 2\n",
      "CV iteration 3\n",
      "CV iteration 4\n",
      "CV iteration 5\n",
      "CV iteration 6\n",
      "CV iteration 7\n",
      "CV iteration 8\n",
      "CV iteration 9\n"
     ]
    }
   ],
   "source": [
    "train_sizes, mae_slatm_d, std_slatm_d = learning_curve(slatm_d, energies, CV=10, sigma=100, l2reg=1e-10)"
   ]
  },
  {
   "cell_type": "code",
   "execution_count": 16,
   "metadata": {},
   "outputs": [
    {
     "name": "stdout",
     "output_type": "stream",
     "text": [
      "CV iteration 0\n",
      "CV iteration 1\n",
      "CV iteration 2\n",
      "CV iteration 3\n",
      "CV iteration 4\n",
      "CV iteration 5\n",
      "CV iteration 6\n",
      "CV iteration 7\n",
      "CV iteration 8\n",
      "CV iteration 9\n"
     ]
    }
   ],
   "source": [
    "train_sizes, mae_soap_d, std_soap_d = learning_curve(soap_d, energies, CV=10, sigma=1, l2reg=1e-4)"
   ]
  },
  {
   "cell_type": "code",
   "execution_count": 17,
   "metadata": {},
   "outputs": [
    {
     "name": "stdout",
     "output_type": "stream",
     "text": [
      "CV iteration 0\n",
      "CV iteration 1\n",
      "CV iteration 2\n",
      "CV iteration 3\n",
      "CV iteration 4\n",
      "CV iteration 5\n",
      "CV iteration 6\n",
      "CV iteration 7\n",
      "CV iteration 8\n",
      "CV iteration 9\n"
     ]
    }
   ],
   "source": [
    "train_sizes, mae_fchl_d, std_fchl_d = learning_curve(fchl_d, energies, CV=10, sigma=100, l2reg=1e-10)"
   ]
  },
  {
   "cell_type": "code",
   "execution_count": 18,
   "metadata": {},
   "outputs": [
    {
     "name": "stdout",
     "output_type": "stream",
     "text": [
      "CV iteration 0\n",
      "CV iteration 1\n",
      "CV iteration 2\n",
      "CV iteration 3\n",
      "CV iteration 4\n",
      "CV iteration 5\n",
      "CV iteration 6\n",
      "CV iteration 7\n",
      "CV iteration 8\n",
      "CV iteration 9\n"
     ]
    }
   ],
   "source": [
    "train_sizes, mae_bob_rp, std_bob_rp = learning_curve(bob_rp, energies, CV=10, sigma=1000, l2reg=1e-10)"
   ]
  },
  {
   "cell_type": "code",
   "execution_count": 19,
   "metadata": {},
   "outputs": [
    {
     "name": "stdout",
     "output_type": "stream",
     "text": [
      "CV iteration 0\n",
      "CV iteration 1\n",
      "CV iteration 2\n",
      "CV iteration 3\n",
      "CV iteration 4\n",
      "CV iteration 5\n",
      "CV iteration 6\n",
      "CV iteration 7\n",
      "CV iteration 8\n",
      "CV iteration 9\n"
     ]
    }
   ],
   "source": [
    "train_sizes, mae_cm_rp, std_cm_rp = learning_curve(cm_rp, energies, CV=10, sigma=100, l2reg=1e-6)"
   ]
  },
  {
   "cell_type": "code",
   "execution_count": 20,
   "metadata": {},
   "outputs": [
    {
     "name": "stdout",
     "output_type": "stream",
     "text": [
      "CV iteration 0\n",
      "CV iteration 1\n",
      "CV iteration 2\n",
      "CV iteration 3\n",
      "CV iteration 4\n",
      "CV iteration 5\n",
      "CV iteration 6\n",
      "CV iteration 7\n",
      "CV iteration 8\n",
      "CV iteration 9\n"
     ]
    }
   ],
   "source": [
    "train_sizes, mae_b2r2_l, std_b2r2_l = learning_curve(b2r2_l, energies, CV=10, sigma=1e4, l2reg=1e-10)"
   ]
  },
  {
   "cell_type": "code",
   "execution_count": 21,
   "metadata": {},
   "outputs": [],
   "source": [
    "def polyfit(train_sizes, maes):\n",
    "    m, c = np.polyfit(np.log(train_sizes), np.log(maes), 1)\n",
    "    polyfit = np.exp(m * np.log(train_sizes) + c)\n",
    "    return polyfit"
   ]
  },
  {
   "cell_type": "code",
   "execution_count": 23,
   "metadata": {},
   "outputs": [
    {
     "data": {
      "image/png": "[encoded data removed]",
      "text/plain": [
       "<Figure size 432x288 with 1 Axes>"
      ]
     },
     "metadata": {
      "needs_background": "light"
     },
     "output_type": "display_data"
    }
   ],
   "source": [
    "fig, ax = plt.subplots(nrows=1, ncols=1)\n",
    "ax.set_xscale('log')\n",
    "ax.set_yscale('log')\n",
    "\n",
    "ax.scatter(train_sizes, mae_slatm_2_d, color='blue', label='SLATM$_d^{(2)}$')\n",
    "ax.plot(train_sizes, polyfit(train_sizes, mae_slatm_2_d), color='blue')\n",
    "\n",
    "ax.scatter(train_sizes, mae_slatm_d, color='purple', label='SLATM$_d$')\n",
    "ax.plot(train_sizes, polyfit(train_sizes, mae_slatm_d), color='purple')\n",
    "\n",
    "ax.scatter(train_sizes, mae_soap_d, color='magenta', label='SOAP$_d$')\n",
    "ax.plot(train_sizes, polyfit(train_sizes, mae_soap_d), color='magenta')\n",
    "\n",
    "ax.scatter(train_sizes, mae_fchl_d, color='red', label='FCHL$_d$')\n",
    "ax.plot(train_sizes, polyfit(train_sizes, mae_fchl_d), color='red')\n",
    "\n",
    "ax.scatter(train_sizes, mae_bob_rp, color='orange', label='BoB$_{rp}$')\n",
    "ax.plot(train_sizes, polyfit(train_sizes, mae_bob_rp), color='orange')\n",
    "\n",
    "ax.scatter(train_sizes, mae_cm_rp, color='gold', label='CM$_{rp}$')\n",
    "ax.plot(train_sizes, polyfit(train_sizes, mae_cm_rp), color='gold')\n",
    "\n",
    "ax.scatter(train_sizes, mae_b2r2_l, color='turquoise', marker='*', label='$B^2R^2_l$')\n",
    "ax.plot(train_sizes, polyfit(train_sizes, mae_b2r2_l), color='turquoise')\n",
    "\n",
    "ax.set_xlabel(\"Number of training instances\")\n",
    "ax.set_ylabel(\"MAE reaction energy / kcal/mol\")\n",
    "plt.legend()\n",
    "plt.tight_layout()\n",
    "plt.show()"
   ]
  },
  {
   "cell_type": "code",
   "execution_count": null,
   "metadata": {},
   "outputs": [],
   "source": []
  }
 ],
 "metadata": {
  "kernelspec": {
   "display_name": "Python 3 (ipykernel)",
   "language": "python",
   "name": "python3"
  },
  "language_info": {
   "codemirror_mode": {
    "name": "ipython",
    "version": 3
   },
   "file_extension": ".py",
   "mimetype": "text/x-python",
   "name": "python",
   "nbconvert_exporter": "python",
   "pygments_lexer": "ipython3",
   "version": "3.7.9"
  }
 },
 "nbformat": 4,
 "nbformat_minor": 4
}
