{
 "cells": [
  {
   "cell_type": "code",
   "execution_count": 1,
   "id": "77d84e33",
   "metadata": {},
   "outputs": [],
   "source": [
    "from collections import defaultdict\n",
    "import os\n",
    "import pickle as pkl\n",
    "import random\n",
    "import time\n",
    "\n",
    "import matplotlib.pyplot as plt\n",
    "import numpy as np\n",
    "import pandas as pd\n",
    "import qml\n",
    "from rdkit import Chem\n",
    "from rdkit.Chem.Scaffolds import MurckoScaffold\n",
    "from tqdm import tqdm\n",
    "\n",
    "import seaborn as sns"
   ]
  },
  {
   "cell_type": "markdown",
   "id": "5b943152",
   "metadata": {},
   "source": [
    "# Define helper functions\n",
    "- borrow code from Chemprop"
   ]
  },
  {
   "cell_type": "code",
   "execution_count": 2,
   "id": "e1c2777d",
   "metadata": {},
   "outputs": [],
   "source": [
    "def str_to_mol(string, explicit_hydrogens=False):\n",
    "    \"\"\"\n",
    "    Converts an InChI or SMILES string to an RDKit molecule.\n",
    "\n",
    "    :param string: The InChI or SMILES string.\n",
    "    :param explicit_hydrogens: Whether to treat hydrogens explicitly.\n",
    "    :return: The RDKit molecule.\n",
    "    \"\"\"\n",
    "    RDKIT_SMILES_PARSER_PARAMS = Chem.SmilesParserParams()\n",
    "    if string.startswith('InChI'):\n",
    "        mol = Chem.MolFromInchi(string, removeHs=not explicit_hydrogens)\n",
    "    else:\n",
    "        # Set params here so we don't remove hydrogens with atom mapping\n",
    "        RDKIT_SMILES_PARSER_PARAMS.removeHs = not explicit_hydrogens\n",
    "        mol = Chem.MolFromSmiles(string, RDKIT_SMILES_PARSER_PARAMS)\n",
    "\n",
    "    if explicit_hydrogens:\n",
    "        return Chem.AddHs(mol)\n",
    "    else:\n",
    "        return Chem.RemoveHs(mol)"
   ]
  },
  {
   "cell_type": "code",
   "execution_count": 3,
   "id": "f30f31b1",
   "metadata": {},
   "outputs": [],
   "source": [
    "def generate_scaffold(mol, include_chirality=False):\n",
    "    \"\"\"\n",
    "    Compute the Bemis-Murcko scaffold for a SMILES string.\n",
    "\n",
    "    :param mol: A smiles string or an RDKit molecule.\n",
    "    :param include_chirality: Whether to include chirality.\n",
    "    :return:\n",
    "    \"\"\"\n",
    "    mol = str_to_mol(mol) if type(mol) == str else mol\n",
    "    scaffold = MurckoScaffold.MurckoScaffoldSmiles(mol=mol, includeChirality=include_chirality)\n",
    "\n",
    "    return scaffold"
   ]
  },
  {
   "cell_type": "code",
   "execution_count": 4,
   "id": "e25adca1",
   "metadata": {},
   "outputs": [],
   "source": [
    "def scaffold_to_smiles(mols,\n",
    "                       use_indices=False):\n",
    "    \"\"\"\n",
    "    Computes scaffold for each smiles string and returns a mapping from scaffolds to sets of smiles.\n",
    "\n",
    "    :param mols: A list of smiles strings or RDKit molecules.\n",
    "    :param use_indices: Whether to map to the smiles' index in all_smiles rather than mapping\n",
    "    to the smiles string itself. This is necessary if there are duplicate smiles.\n",
    "    :return: A dictionary mapping each unique scaffold to all smiles (or smiles indices) which have that scaffold.\n",
    "    \"\"\"\n",
    "    scaffolds = defaultdict(set)\n",
    "    for i, mol in tqdm(enumerate(mols), total=len(mols)):\n",
    "        scaffold = generate_scaffold(mol)\n",
    "        if use_indices:\n",
    "            scaffolds[scaffold].add(i)\n",
    "        else:\n",
    "            scaffolds[scaffold].add(mol)\n",
    "\n",
    "    return scaffolds"
   ]
  },
  {
   "cell_type": "code",
   "execution_count": 5,
   "id": "f463c9bf",
   "metadata": {},
   "outputs": [],
   "source": [
    "# modify this function from Chemprop to just return the indices\n",
    "def scaffold_split(mols,\n",
    "                   sizes=(0.8, 0.1, 0.1),\n",
    "                   balanced=False,\n",
    "                   seed=0,\n",
    "                   ):\n",
    "    \"\"\"\n",
    "    Split a dataset by scaffold so that no molecules sharing a scaffold are in the same split.\n",
    "\n",
    "    :param data: A MoleculeDataset or ReactionDataset.\n",
    "    \n",
    "    :param mols: a list of rdkit molecules\n",
    "    \n",
    "    :param sizes: A length-3 tuple with the proportions of data in the\n",
    "    train, validation, and test sets.\n",
    "    :param balanced: Try to balance sizes of scaffolds in each set, rather than just putting smallest in test set.\n",
    "    :param seed: Seed for shuffling when doing balanced splitting.\n",
    "    :param logger: A logger.\n",
    "    :return: A tuple containing the train, validation, and test splits of the data.\n",
    "    \"\"\"\n",
    "    assert sum(sizes) == 1\n",
    "\n",
    "    # Split\n",
    "    train_size, val_size, test_size = sizes[0] * len(mols), sizes[1] * len(mols), sizes[2] * len(mols)\n",
    "    train, val, test = [], [], []\n",
    "    train_scaffold_count, val_scaffold_count, test_scaffold_count = 0, 0, 0\n",
    "    \n",
    "    scaffold_to_indices = scaffold_to_smiles(mols, use_indices=True)\n",
    "\n",
    "    if balanced:  # Put stuff that's bigger than half the val/test size into train, rest just order randomly\n",
    "        index_sets = list(scaffold_to_indices.values())\n",
    "        big_index_sets = []\n",
    "        small_index_sets = []\n",
    "        for index_set in index_sets:\n",
    "            if len(index_set) > val_size / 2 or len(index_set) > test_size / 2:\n",
    "                big_index_sets.append(index_set)\n",
    "            else:\n",
    "                small_index_sets.append(index_set)\n",
    "        random.seed(seed)\n",
    "        random.shuffle(big_index_sets)\n",
    "        random.shuffle(small_index_sets)\n",
    "        index_sets = big_index_sets + small_index_sets\n",
    "    else:  # Sort from largest to smallest scaffold sets\n",
    "        index_sets = sorted(list(scaffold_to_indices.values()),\n",
    "                            key=lambda index_set: len(index_set),\n",
    "                            reverse=True)\n",
    "\n",
    "    for index_set in index_sets:\n",
    "        if len(train) + len(index_set) <= train_size:\n",
    "            train += index_set\n",
    "            train_scaffold_count += 1\n",
    "        elif len(val) + len(index_set) <= val_size:\n",
    "            val += index_set\n",
    "            val_scaffold_count += 1\n",
    "        else:\n",
    "            test += index_set\n",
    "            test_scaffold_count += 1\n",
    "\n",
    "    \n",
    "    print(f'Total scaffolds = {len(scaffold_to_indices):,} | '\n",
    "          f'train scaffolds = {train_scaffold_count:,} | '\n",
    "          f'val scaffolds = {val_scaffold_count:,} | '\n",
    "          f'test scaffolds = {test_scaffold_count:,}')\n",
    "    \n",
    "    return train, val, test"
   ]
  },
  {
   "cell_type": "markdown",
   "id": "3e41bf19",
   "metadata": {},
   "source": [
    "# Create Scaffold splits\n",
    "- use 5 different random seeds"
   ]
  },
  {
   "cell_type": "code",
   "execution_count": 6,
   "id": "7c346164",
   "metadata": {},
   "outputs": [
    {
     "data": {
      "text/html": [
       "<div>\n",
       "<style scoped>\n",
       "    .dataframe tbody tr th:only-of-type {\n",
       "        vertical-align: middle;\n",
       "    }\n",
       "\n",
       "    .dataframe tbody tr th {\n",
       "        vertical-align: top;\n",
       "    }\n",
       "\n",
       "    .dataframe thead th {\n",
       "        text-align: right;\n",
       "    }\n",
       "</style>\n",
       "<table border=\"1\" class=\"dataframe\">\n",
       "  <thead>\n",
       "    <tr style=\"text-align: right;\">\n",
       "      <th></th>\n",
       "      <th>idx</th>\n",
       "      <th>rsmi</th>\n",
       "      <th>psmi</th>\n",
       "      <th>ea</th>\n",
       "      <th>dh</th>\n",
       "    </tr>\n",
       "  </thead>\n",
       "  <tbody>\n",
       "    <tr>\n",
       "      <th>0</th>\n",
       "      <td>0</td>\n",
       "      <td>[C:1]([c:2]1[n:3][o:4][n:5][n:6]1)([H:7])([H:8...</td>\n",
       "      <td>[C:1]([C:2]([N:3]=[O:4])=[N+:6]=[N-:5])([H:7])...</td>\n",
       "      <td>48.659484</td>\n",
       "      <td>25.845091</td>\n",
       "    </tr>\n",
       "    <tr>\n",
       "      <th>1</th>\n",
       "      <td>1</td>\n",
       "      <td>[C:1]([c:2]1[n:3][o:4][n:5][n:6]1)([H:7])([H:8...</td>\n",
       "      <td>[C:1]([N:3]=[C:2]=[N:6][N:5]=[O:4])([H:7])([H:...</td>\n",
       "      <td>74.207878</td>\n",
       "      <td>25.357506</td>\n",
       "    </tr>\n",
       "    <tr>\n",
       "      <th>2</th>\n",
       "      <td>2</td>\n",
       "      <td>[C:1]([O:2][C:3]([C:4]([O:5][H:13])([H:11])[H:...</td>\n",
       "      <td>[C:1]1([H:6])([H:7])[O:2][C:3]([H:9])([H:10])[...</td>\n",
       "      <td>102.656628</td>\n",
       "      <td>12.050720</td>\n",
       "    </tr>\n",
       "    <tr>\n",
       "      <th>3</th>\n",
       "      <td>3</td>\n",
       "      <td>[C:1]([O:2][C:3]([C:4]([O:5][H:13])([H:11])[H:...</td>\n",
       "      <td>[C:1]([O:2][H:13])([H:6])([H:7])[H:8].[C:3]1([...</td>\n",
       "      <td>76.830279</td>\n",
       "      <td>22.023014</td>\n",
       "    </tr>\n",
       "    <tr>\n",
       "      <th>4</th>\n",
       "      <td>4</td>\n",
       "      <td>[C:1]([O:2][C:3]([C:4]([O:5][H:13])([H:11])[H:...</td>\n",
       "      <td>[C:1]([O:2][H:13])([H:6])([H:7])[H:8].[C:3]([C...</td>\n",
       "      <td>72.185427</td>\n",
       "      <td>-4.896952</td>\n",
       "    </tr>\n",
       "    <tr>\n",
       "      <th>...</th>\n",
       "      <td>...</td>\n",
       "      <td>...</td>\n",
       "      <td>...</td>\n",
       "      <td>...</td>\n",
       "      <td>...</td>\n",
       "    </tr>\n",
       "    <tr>\n",
       "      <th>11956</th>\n",
       "      <td>11956</td>\n",
       "      <td>[C:1]([C@@:2]([O:3][H:12])([C:4]([O:5][C:6](=[...</td>\n",
       "      <td>[C:1]([C:2][C:4]([O:5][C:6](=[O:7])[H:15])([H:...</td>\n",
       "      <td>76.498542</td>\n",
       "      <td>71.925276</td>\n",
       "    </tr>\n",
       "    <tr>\n",
       "      <th>11957</th>\n",
       "      <td>11957</td>\n",
       "      <td>[C:1]([C@@:2]([O:3][H:12])([C:4]([O:5][C:6](=[...</td>\n",
       "      <td>[C:1]([C@@:2]1([H:11])[O:3][C@:6]([O:7][H:12])...</td>\n",
       "      <td>43.743167</td>\n",
       "      <td>6.397510</td>\n",
       "    </tr>\n",
       "    <tr>\n",
       "      <th>11958</th>\n",
       "      <td>11958</td>\n",
       "      <td>[C:1]([C@@:2]([O:3][H:12])([C:4]([O:5][C:6](=[...</td>\n",
       "      <td>[C:1]([C@@:2]([O:3][H:12])([C:4](=[O:5])[H:14]...</td>\n",
       "      <td>73.601660</td>\n",
       "      <td>27.552744</td>\n",
       "    </tr>\n",
       "    <tr>\n",
       "      <th>11959</th>\n",
       "      <td>11959</td>\n",
       "      <td>[C:1]([C@@:2]([O:3][H:12])([C:4]([O:5][C:6](=[...</td>\n",
       "      <td>[C:1](=[C:2]([C:4]([O:5][C:6](=[O:7])[H:15])([...</td>\n",
       "      <td>66.621537</td>\n",
       "      <td>13.289960</td>\n",
       "    </tr>\n",
       "    <tr>\n",
       "      <th>11960</th>\n",
       "      <td>11960</td>\n",
       "      <td>[C:1]([C@@:2]([O:3][H:12])([C:4]([O:5][C:6](=[...</td>\n",
       "      <td>[C:1]([C:2](=[O:3])[C:4]([O:5][C:6]([O:7][H:12...</td>\n",
       "      <td>52.364314</td>\n",
       "      <td>15.076228</td>\n",
       "    </tr>\n",
       "  </tbody>\n",
       "</table>\n",
       "<p>11961 rows × 5 columns</p>\n",
       "</div>"
      ],
      "text/plain": [
       "         idx                                               rsmi  \\\n",
       "0          0  [C:1]([c:2]1[n:3][o:4][n:5][n:6]1)([H:7])([H:8...   \n",
       "1          1  [C:1]([c:2]1[n:3][o:4][n:5][n:6]1)([H:7])([H:8...   \n",
       "2          2  [C:1]([O:2][C:3]([C:4]([O:5][H:13])([H:11])[H:...   \n",
       "3          3  [C:1]([O:2][C:3]([C:4]([O:5][H:13])([H:11])[H:...   \n",
       "4          4  [C:1]([O:2][C:3]([C:4]([O:5][H:13])([H:11])[H:...   \n",
       "...      ...                                                ...   \n",
       "11956  11956  [C:1]([C@@:2]([O:3][H:12])([C:4]([O:5][C:6](=[...   \n",
       "11957  11957  [C:1]([C@@:2]([O:3][H:12])([C:4]([O:5][C:6](=[...   \n",
       "11958  11958  [C:1]([C@@:2]([O:3][H:12])([C:4]([O:5][C:6](=[...   \n",
       "11959  11959  [C:1]([C@@:2]([O:3][H:12])([C:4]([O:5][C:6](=[...   \n",
       "11960  11960  [C:1]([C@@:2]([O:3][H:12])([C:4]([O:5][C:6](=[...   \n",
       "\n",
       "                                                    psmi          ea  \\\n",
       "0      [C:1]([C:2]([N:3]=[O:4])=[N+:6]=[N-:5])([H:7])...   48.659484   \n",
       "1      [C:1]([N:3]=[C:2]=[N:6][N:5]=[O:4])([H:7])([H:...   74.207878   \n",
       "2      [C:1]1([H:6])([H:7])[O:2][C:3]([H:9])([H:10])[...  102.656628   \n",
       "3      [C:1]([O:2][H:13])([H:6])([H:7])[H:8].[C:3]1([...   76.830279   \n",
       "4      [C:1]([O:2][H:13])([H:6])([H:7])[H:8].[C:3]([C...   72.185427   \n",
       "...                                                  ...         ...   \n",
       "11956  [C:1]([C:2][C:4]([O:5][C:6](=[O:7])[H:15])([H:...   76.498542   \n",
       "11957  [C:1]([C@@:2]1([H:11])[O:3][C@:6]([O:7][H:12])...   43.743167   \n",
       "11958  [C:1]([C@@:2]([O:3][H:12])([C:4](=[O:5])[H:14]...   73.601660   \n",
       "11959  [C:1](=[C:2]([C:4]([O:5][C:6](=[O:7])[H:15])([...   66.621537   \n",
       "11960  [C:1]([C:2](=[O:3])[C:4]([O:5][C:6]([O:7][H:12...   52.364314   \n",
       "\n",
       "              dh  \n",
       "0      25.845091  \n",
       "1      25.357506  \n",
       "2      12.050720  \n",
       "3      22.023014  \n",
       "4      -4.896952  \n",
       "...          ...  \n",
       "11956  71.925276  \n",
       "11957   6.397510  \n",
       "11958  27.552744  \n",
       "11959  13.289960  \n",
       "11960  15.076228  \n",
       "\n",
       "[11961 rows x 5 columns]"
      ]
     },
     "execution_count": 6,
     "metadata": {},
     "output_type": "execute_result"
    }
   ],
   "source": [
    "# use csv from Colin's published data so we have SMILES to create scaffold splits\n",
    "df = pd.read_csv('data/GDB7-20-TS/wb97xd3_v1.0.1.csv')\n",
    "df"
   ]
  },
  {
   "cell_type": "code",
   "execution_count": 7,
   "id": "62223401",
   "metadata": {},
   "outputs": [
    {
     "data": {
      "text/plain": [
       "11961"
      ]
     },
     "execution_count": 7,
     "metadata": {},
     "output_type": "execute_result"
    }
   ],
   "source": [
    "mols = [str_to_mol(rsmi, explicit_hydrogens=True) for rsmi in df.rsmi]\n",
    "len(mols)"
   ]
  },
  {
   "cell_type": "code",
   "execution_count": 8,
   "id": "ed5a147d",
   "metadata": {},
   "outputs": [
    {
     "name": "stderr",
     "output_type": "stream",
     "text": [
      "100%|██████████| 11961/11961 [00:00<00:00, 17709.90it/s]\n"
     ]
    },
    {
     "name": "stdout",
     "output_type": "stream",
     "text": [
      "Total scaffolds = 468 | train scaffolds = 381 | val scaffolds = 34 | test scaffolds = 53\n",
      "10165 598 1198\n"
     ]
    },
    {
     "name": "stderr",
     "output_type": "stream",
     "text": [
      "100%|██████████| 11961/11961 [00:00<00:00, 18762.65it/s]\n"
     ]
    },
    {
     "name": "stdout",
     "output_type": "stream",
     "text": [
      "Total scaffolds = 468 | train scaffolds = 392 | val scaffolds = 23 | test scaffolds = 53\n",
      "10165 597 1199\n"
     ]
    },
    {
     "name": "stderr",
     "output_type": "stream",
     "text": [
      "100%|██████████| 11961/11961 [00:00<00:00, 18013.97it/s]\n"
     ]
    },
    {
     "name": "stdout",
     "output_type": "stream",
     "text": [
      "Total scaffolds = 468 | train scaffolds = 350 | val scaffolds = 38 | test scaffolds = 80\n",
      "10166 598 1197\n"
     ]
    },
    {
     "name": "stderr",
     "output_type": "stream",
     "text": [
      "100%|██████████| 11961/11961 [00:00<00:00, 17858.48it/s]\n"
     ]
    },
    {
     "name": "stdout",
     "output_type": "stream",
     "text": [
      "Total scaffolds = 468 | train scaffolds = 360 | val scaffolds = 31 | test scaffolds = 77\n",
      "10165 598 1198\n"
     ]
    },
    {
     "name": "stderr",
     "output_type": "stream",
     "text": [
      "100%|██████████| 11961/11961 [00:00<00:00, 16602.31it/s]"
     ]
    },
    {
     "name": "stdout",
     "output_type": "stream",
     "text": [
      "Total scaffolds = 468 | train scaffolds = 365 | val scaffolds = 34 | test scaffolds = 69\n",
      "10166 598 1197\n"
     ]
    },
    {
     "name": "stderr",
     "output_type": "stream",
     "text": [
      "\n"
     ]
    }
   ],
   "source": [
    "indices = []\n",
    "for seed in range(5):\n",
    "    \n",
    "    train_indices, val_indices, test_indices = scaffold_split(mols,\n",
    "                                                              sizes=(0.85, 0.05, 0.1),\n",
    "                                                              balanced=True,\n",
    "                                                              seed=seed)\n",
    "    print(len(train_indices), len(val_indices), len(test_indices))\n",
    "    indices.append([train_indices, val_indices, test_indices])"
   ]
  },
  {
   "cell_type": "code",
   "execution_count": 9,
   "id": "93b6dcea",
   "metadata": {},
   "outputs": [],
   "source": [
    "with open('GDB7_scaffold_split_indices.pkl', 'wb') as f:\n",
    "    pkl.dump(indices, f)"
   ]
  },
  {
   "cell_type": "code",
   "execution_count": 10,
   "id": "16748062",
   "metadata": {},
   "outputs": [
    {
     "data": {
      "text/plain": [
       "[1016, 1807, 3214, 5716, 10165]"
      ]
     },
     "execution_count": 10,
     "metadata": {},
     "output_type": "execute_result"
    }
   ],
   "source": [
    "MAX_TRAIN_LENGTH = 10165\n",
    "n_points = 5\n",
    "train_fractions = np.logspace(-1, 0, num=n_points, endpoint=True)\n",
    "train_sizes = [int(MAX_TRAIN_LENGTH * x) for x in train_fractions]\n",
    "train_sizes"
   ]
  },
  {
   "cell_type": "markdown",
   "id": "034ac134",
   "metadata": {},
   "source": [
    "Create indices to train Chemprop on"
   ]
  },
  {
   "cell_type": "code",
   "execution_count": 11,
   "id": "5e3ac64c",
   "metadata": {},
   "outputs": [],
   "source": [
    "for train_size in train_sizes:\n",
    "    folds = []\n",
    "    for train, val, test in indices:\n",
    "        train = train[:train_size]\n",
    "        folds.append([train, val, test])\n",
    "    with open(f'data/GDB7-20-TS/GDB7_scaffold_split_indices_train_size_{train_size}.pkl', 'wb') as f:\n",
    "        pkl.dump(folds, f)"
   ]
  },
  {
   "cell_type": "markdown",
   "id": "556e736f",
   "metadata": {},
   "source": [
    "# Create inputs and train the model"
   ]
  },
  {
   "cell_type": "code",
   "execution_count": 12,
   "id": "a6ec2e87",
   "metadata": {},
   "outputs": [],
   "source": [
    "from src.reaction_reps import QML, B2R2\n",
    "from src.learning import predict_KRR"
   ]
  },
  {
   "cell_type": "code",
   "execution_count": 13,
   "id": "bea853a0",
   "metadata": {},
   "outputs": [],
   "source": [
    "def polyfit(train_sizes, maes):\n",
    "    m, c = np.polyfit(np.log(train_sizes), np.log(maes), 1)\n",
    "    polyfit = np.exp(m * np.log(train_sizes) + c)\n",
    "    return polyfit"
   ]
  },
  {
   "cell_type": "code",
   "execution_count": 14,
   "id": "e6847d90",
   "metadata": {},
   "outputs": [
    {
     "name": "stdout",
     "output_type": "stream",
     "text": [
      "Elapsed time: 7.9 seconds\n"
     ]
    }
   ],
   "source": [
    "start = time.time()\n",
    "b2r2 = B2R2()\n",
    "b2r2.get_gdb7_rxn_data()\n",
    "print(f'Elapsed time: {time.time() - start:.1f} seconds')"
   ]
  },
  {
   "cell_type": "code",
   "execution_count": 15,
   "id": "9fba2059",
   "metadata": {},
   "outputs": [
    {
     "data": {
      "text/html": [
       "<div>\n",
       "<style scoped>\n",
       "    .dataframe tbody tr th:only-of-type {\n",
       "        vertical-align: middle;\n",
       "    }\n",
       "\n",
       "    .dataframe tbody tr th {\n",
       "        vertical-align: top;\n",
       "    }\n",
       "\n",
       "    .dataframe thead th {\n",
       "        text-align: right;\n",
       "    }\n",
       "</style>\n",
       "<table border=\"1\" class=\"dataframe\">\n",
       "  <thead>\n",
       "    <tr style=\"text-align: right;\">\n",
       "      <th></th>\n",
       "      <th>0</th>\n",
       "    </tr>\n",
       "  </thead>\n",
       "  <tbody>\n",
       "    <tr>\n",
       "      <th>count</th>\n",
       "      <td>11961.000000</td>\n",
       "    </tr>\n",
       "    <tr>\n",
       "      <th>mean</th>\n",
       "      <td>83.392466</td>\n",
       "    </tr>\n",
       "    <tr>\n",
       "      <th>std</th>\n",
       "      <td>22.755110</td>\n",
       "    </tr>\n",
       "    <tr>\n",
       "      <th>min</th>\n",
       "      <td>10.727258</td>\n",
       "    </tr>\n",
       "    <tr>\n",
       "      <th>25%</th>\n",
       "      <td>67.287048</td>\n",
       "    </tr>\n",
       "    <tr>\n",
       "      <th>50%</th>\n",
       "      <td>81.519704</td>\n",
       "    </tr>\n",
       "    <tr>\n",
       "      <th>75%</th>\n",
       "      <td>97.646429</td>\n",
       "    </tr>\n",
       "    <tr>\n",
       "      <th>max</th>\n",
       "      <td>204.654825</td>\n",
       "    </tr>\n",
       "  </tbody>\n",
       "</table>\n",
       "</div>"
      ],
      "text/plain": [
       "                  0\n",
       "count  11961.000000\n",
       "mean      83.392466\n",
       "std       22.755110\n",
       "min       10.727258\n",
       "25%       67.287048\n",
       "50%       81.519704\n",
       "75%       97.646429\n",
       "max      204.654825"
      ]
     },
     "execution_count": 15,
     "metadata": {},
     "output_type": "execute_result"
    }
   ],
   "source": [
    "energies = b2r2.barriers\n",
    "pd.DataFrame(energies).describe()"
   ]
  },
  {
   "cell_type": "code",
   "execution_count": 16,
   "id": "3c8c3df8",
   "metadata": {},
   "outputs": [],
   "source": [
    "# takes about 15 min when not pickled\n",
    "filename = 'GDB7_b2r2_l.pkl'\n",
    "if os.path.exists(f'{filename}'):\n",
    "    with open(f'{filename}', 'rb') as f:\n",
    "        b2r2_l = pkl.load(f)\n",
    "else:\n",
    "    start = time.time()\n",
    "    b2r2_l = b2r2.get_b2r2_l(Rcut=6)\n",
    "    with open(f'{filename}', 'wb') as f:\n",
    "        pkl.dump(b2r2_l, f)\n",
    "    print(f'Elapsed time: {time.time() - start:.1f} seconds')"
   ]
  },
  {
   "cell_type": "code",
   "execution_count": 17,
   "id": "eeb0b919",
   "metadata": {},
   "outputs": [
    {
     "name": "stdout",
     "output_type": "stream",
     "text": [
      "Elapsed time: 13.8 seconds\n"
     ]
    }
   ],
   "source": [
    "start = time.time()\n",
    "qml = QML()\n",
    "qml.get_gdb7_rxn_data()\n",
    "print(f'Elapsed time: {time.time() - start:.1f} seconds')"
   ]
  },
  {
   "cell_type": "markdown",
   "id": "9ce70840",
   "metadata": {},
   "source": [
    "# Reproduce Figure 4 but use scaffold splits"
   ]
  },
  {
   "cell_type": "code",
   "execution_count": 18,
   "id": "5c1e5c26",
   "metadata": {},
   "outputs": [
    {
     "name": "stdout",
     "output_type": "stream",
     "text": [
      "Elapsed time: 161.8 seconds\n"
     ]
    }
   ],
   "source": [
    "start = time.time()\n",
    "slatm_2_r, slatm_2_p, slatm_2_d = qml.get_SLATM_twobody()\n",
    "print(f'Elapsed time: {time.time() - start:.1f} seconds')"
   ]
  },
  {
   "cell_type": "markdown",
   "id": "ad10b670",
   "metadata": {},
   "source": [
    "Must use the hyperparameters that they report in the SI for the GDB7 dataset i.e. $\\sigma = 10$ and $\\lambda$ = 1e-4"
   ]
  },
  {
   "cell_type": "code",
   "execution_count": 19,
   "id": "b4b9270a",
   "metadata": {},
   "outputs": [
    {
     "name": "stdout",
     "output_type": "stream",
     "text": [
      "CV iteration 0\n",
      "CV iteration 1\n",
      "CV iteration 2\n",
      "CV iteration 3\n",
      "CV iteration 4\n",
      "Elapsed time: 671.3 seconds\n"
     ]
    }
   ],
   "source": [
    "start = time.time()\n",
    "X = slatm_2_d\n",
    "y = energies\n",
    "\n",
    "CV = 5\n",
    "n_points = 5\n",
    "sigma = 10\n",
    "l2reg = 1e-4\n",
    "\n",
    "maes = np.zeros((CV, n_points))\n",
    "preds = {i: [] for i in range(n_points)}\n",
    "targets = {i: [] for i in range(n_points)}\n",
    "    \n",
    "for i, (train_idx, val_idx, test_idx) in enumerate(indices):\n",
    "    print(\"CV iteration\", i)\n",
    "    \n",
    "    X_train_i, X_test_i = X[train_idx], X[test_idx]\n",
    "    y_train_i, y_test_i = y[train_idx], y[test_idx]\n",
    "    \n",
    "    train_sizes = [int(len(y_train_i) * x) for x in train_fractions]\n",
    "\n",
    "    for j, train_size in enumerate(train_sizes):\n",
    "        \n",
    "        X_train = X_train_i[:train_size]\n",
    "        y_train = y_train_i[:train_size]\n",
    "        mae, y_pred = predict_KRR(\n",
    "            X_train, X_test_i, y_train, y_test_i, sigma=sigma, l2reg=l2reg\n",
    "        )\n",
    "        preds[j].append(y_pred)\n",
    "        targets[j].append(y_test_i)\n",
    "        maes[i, j] = mae\n",
    "print(f'Elapsed time: {time.time() - start:.1f} seconds')"
   ]
  },
  {
   "cell_type": "code",
   "execution_count": 20,
   "id": "8fa3fc00",
   "metadata": {},
   "outputs": [
    {
     "data": {
      "text/plain": [
       "[1016, 1807, 3214, 5716, 10166]"
      ]
     },
     "execution_count": 20,
     "metadata": {},
     "output_type": "execute_result"
    }
   ],
   "source": [
    "train_sizes"
   ]
  },
  {
   "cell_type": "code",
   "execution_count": 21,
   "id": "d5197699",
   "metadata": {},
   "outputs": [
    {
     "data": {
      "text/plain": [
       "array([[20.89728737, 18.99428547, 18.878847  , 11.92007179, 10.50307747],\n",
       "       [24.51398142, 21.73811122, 21.16773284, 12.74722433, 10.25922202],\n",
       "       [24.41331165, 22.79069511, 22.49145339, 13.93854172, 11.16492199],\n",
       "       [29.85306716, 25.78814141, 25.96822288, 14.56642606, 12.56828217],\n",
       "       [25.94596521, 23.56940741, 24.2652722 , 13.42862507, 10.53226049]])"
      ]
     },
     "execution_count": 21,
     "metadata": {},
     "output_type": "execute_result"
    }
   ],
   "source": [
    "maes"
   ]
  },
  {
   "cell_type": "markdown",
   "id": "20f9e742",
   "metadata": {},
   "source": [
    "Pickle the results"
   ]
  },
  {
   "cell_type": "code",
   "execution_count": 22,
   "id": "ce544ad7",
   "metadata": {},
   "outputs": [],
   "source": [
    "with open('GDB7_scaffold_splits_predictions.pkl', 'wb') as f:\n",
    "    pkl.dump(preds, f)"
   ]
  },
  {
   "cell_type": "code",
   "execution_count": 23,
   "id": "e389f82d",
   "metadata": {},
   "outputs": [],
   "source": [
    "with open('GDB7_scaffold_splits_targets.pkl', 'wb') as f:\n",
    "    pkl.dump(targets, f)"
   ]
  },
  {
   "cell_type": "code",
   "execution_count": 24,
   "id": "f5a703b1",
   "metadata": {},
   "outputs": [],
   "source": [
    "with open('GDB7_scaffold_splits_maes.pkl', 'wb') as f:\n",
    "    pkl.dump(maes, f)"
   ]
  },
  {
   "cell_type": "markdown",
   "id": "ae6f5489",
   "metadata": {},
   "source": [
    "Load the results"
   ]
  },
  {
   "cell_type": "code",
   "execution_count": 25,
   "id": "071c990f",
   "metadata": {},
   "outputs": [],
   "source": [
    "with open('GDB7_scaffold_splits_predictions.pkl', 'rb') as f:\n",
    "    preds = pkl.load(f)"
   ]
  },
  {
   "cell_type": "code",
   "execution_count": 26,
   "id": "de7671ee",
   "metadata": {},
   "outputs": [],
   "source": [
    "with open('GDB7_scaffold_splits_targets.pkl', 'rb') as f:\n",
    "    targets = pkl.load(f)"
   ]
  },
  {
   "cell_type": "code",
   "execution_count": 27,
   "id": "4be38b35",
   "metadata": {},
   "outputs": [],
   "source": [
    "with open('GDB7_scaffold_splits_maes.pkl', 'rb') as f:\n",
    "    maes = pkl.load(f)"
   ]
  },
  {
   "cell_type": "code",
   "execution_count": 28,
   "id": "20579377",
   "metadata": {},
   "outputs": [
    {
     "name": "stdout",
     "output_type": "stream",
     "text": [
      "****************************************************************************************\n",
      "training size had 1016 examples\n",
      "test size was 1198\n",
      "min: -112.05 kcal/mol\t max: 205.60 kcal/mol\n",
      "mean: 4.58 kcal/mol\t std: 28.27 kcal/mol\n",
      "****************************************************************************************\n",
      "training size had 1016 examples\n",
      "test size was 1199\n",
      "min: -92.99 kcal/mol\t max: 205.60 kcal/mol\n",
      "mean: 12.09 kcal/mol\t std: 31.75 kcal/mol\n",
      "****************************************************************************************\n",
      "training size had 1016 examples\n",
      "test size was 1197\n",
      "min: -97.11 kcal/mol\t max: 160.98 kcal/mol\n",
      "mean: 9.54 kcal/mol\t std: 32.60 kcal/mol\n",
      "****************************************************************************************\n",
      "training size had 1016 examples\n",
      "test size was 1198\n",
      "min: -85.51 kcal/mol\t max: 168.86 kcal/mol\n",
      "mean: 16.87 kcal/mol\t std: 36.78 kcal/mol\n",
      "****************************************************************************************\n",
      "training size had 1016 examples\n",
      "test size was 1197\n",
      "min: -97.84 kcal/mol\t max: 161.43 kcal/mol\n",
      "mean: 11.04 kcal/mol\t std: 33.64 kcal/mol\n"
     ]
    },
    {
     "data": {
      "text/plain": [
       "Text(0.5, 0, 'Error (kcal/mol)')"
      ]
     },
     "execution_count": 28,
     "metadata": {},
     "output_type": "execute_result"
    },
    {
     "data": {
      "image/png": "[encoded data removed]",
      "text/plain": [
       "<Figure size 400x400 with 1 Axes>"
      ]
     },
     "metadata": {},
     "output_type": "display_data"
    }
   ],
   "source": [
    "color = '#721f81'  # dark purple\n",
    "ii = 0\n",
    "f, ax = plt.subplots(figsize=(4, 4))\n",
    "for pred, target in zip(preds[ii], targets[ii]):\n",
    "    print('*'*88)\n",
    "    print(f'training size had {train_sizes[ii]} examples')\n",
    "    # make sure the testing size is the same \n",
    "    # assert train_sizes[ii] == len(pred)\n",
    "    print(f'test size was {len(pred)}')\n",
    "    residuals = target - pred.flatten()\n",
    "    print(f'min: {np.min(residuals):.2f} kcal/mol\\t max: {np.max(residuals):.2f} kcal/mol')\n",
    "    print(f'mean: {np.mean(residuals):.2f} kcal/mol\\t std: {np.std(residuals):.2f} kcal/mol')\n",
    "\n",
    "# just plot a histogram for the last results\n",
    "sns.histplot(residuals, \n",
    "             color=color,\n",
    "             bins=60, stat='probability', edgecolor=\"k\")\n",
    "\n",
    "ax.set_xlabel('Error (kcal/mol)')"
   ]
  },
  {
   "cell_type": "code",
   "execution_count": 29,
   "id": "5be729bd",
   "metadata": {},
   "outputs": [
    {
     "name": "stdout",
     "output_type": "stream",
     "text": [
      "****************************************************************************************\n",
      "training size had 10166 examples\n",
      "test size was 1198\n",
      "min: -50.13 kcal/mol\t max: 102.19 kcal/mol\n",
      "mean: 1.27 kcal/mol\t std: 15.75 kcal/mol\n",
      "****************************************************************************************\n",
      "training size had 10166 examples\n",
      "test size was 1199\n",
      "min: -54.44 kcal/mol\t max: 66.07 kcal/mol\n",
      "mean: 0.68 kcal/mol\t std: 14.63 kcal/mol\n",
      "****************************************************************************************\n",
      "training size had 10166 examples\n",
      "test size was 1197\n",
      "min: -77.79 kcal/mol\t max: 97.44 kcal/mol\n",
      "mean: 0.18 kcal/mol\t std: 16.22 kcal/mol\n",
      "****************************************************************************************\n",
      "training size had 10166 examples\n",
      "test size was 1198\n",
      "min: -115.27 kcal/mol\t max: 77.63 kcal/mol\n",
      "mean: -0.41 kcal/mol\t std: 17.75 kcal/mol\n",
      "****************************************************************************************\n",
      "training size had 10166 examples\n",
      "test size was 1197\n",
      "min: -72.90 kcal/mol\t max: 84.72 kcal/mol\n",
      "mean: 0.84 kcal/mol\t std: 15.41 kcal/mol\n"
     ]
    },
    {
     "data": {
      "text/plain": [
       "Text(0.5, 0, 'Error (kcal/mol)')"
      ]
     },
     "execution_count": 29,
     "metadata": {},
     "output_type": "execute_result"
    },
    {
     "data": {
      "image/png": "[encoded data removed]",
      "text/plain": [
       "<Figure size 400x400 with 1 Axes>"
      ]
     },
     "metadata": {},
     "output_type": "display_data"
    }
   ],
   "source": [
    "color = '#721f81'  # dark purple\n",
    "ii = 4\n",
    "f, ax = plt.subplots(figsize=(4, 4))\n",
    "for pred, target in zip(preds[ii], targets[ii]):\n",
    "    print('*'*88)\n",
    "    print(f'training size had {train_sizes[ii]} examples')\n",
    "    # make sure the testing size is the same \n",
    "    # assert train_sizes[ii] == len(pred)\n",
    "    print(f'test size was {len(pred)}')\n",
    "    residuals = target - pred.flatten()\n",
    "    print(f'min: {np.min(residuals):.2f} kcal/mol\\t max: {np.max(residuals):.2f} kcal/mol')\n",
    "    print(f'mean: {np.mean(residuals):.2f} kcal/mol\\t std: {np.std(residuals):.2f} kcal/mol')\n",
    "\n",
    "# just plot a histogram for the last results\n",
    "sns.histplot(residuals, \n",
    "             color=color,\n",
    "             bins=60, stat='probability', edgecolor=\"k\")\n",
    "\n",
    "ax.set_xlabel('Error (kcal/mol)')"
   ]
  },
  {
   "cell_type": "code",
   "execution_count": 30,
   "id": "d02be6e1",
   "metadata": {},
   "outputs": [],
   "source": [
    "mae_slatm_2_d = np.mean(maes, axis=0)\n",
    "std_slatm_2_d = np.std(maes, axis=0)"
   ]
  },
  {
   "cell_type": "code",
   "execution_count": 31,
   "id": "3b474d23",
   "metadata": {},
   "outputs": [
    {
     "data": {
      "text/plain": [
       "array([25.12472256, 22.57612812, 22.55430566, 13.32017779, 11.00555283])"
      ]
     },
     "execution_count": 31,
     "metadata": {},
     "output_type": "execute_result"
    }
   ],
   "source": [
    "mae_slatm_2_d"
   ]
  },
  {
   "cell_type": "code",
   "execution_count": 32,
   "id": "7e99df4e",
   "metadata": {},
   "outputs": [
    {
     "data": {
      "text/plain": [
       "array([2.89074387, 2.23076405, 2.45021502, 0.92041751, 0.83678173])"
      ]
     },
     "execution_count": 32,
     "metadata": {},
     "output_type": "execute_result"
    }
   ],
   "source": [
    "std_slatm_2_d"
   ]
  },
  {
   "cell_type": "code",
   "execution_count": 33,
   "id": "e2beade1",
   "metadata": {},
   "outputs": [
    {
     "data": {
      "image/png": "[encoded data removed]",
      "text/plain": [
       "<Figure size 640x480 with 1 Axes>"
      ]
     },
     "metadata": {},
     "output_type": "display_data"
    }
   ],
   "source": [
    "fig, ax = plt.subplots(nrows=1, ncols=1)\n",
    "ax.set_xscale('log')\n",
    "ax.set_yscale('log')\n",
    "\n",
    "ax.scatter(train_sizes, mae_slatm_2_d, color='blue', label='SLATM$_d^{(2)}$')\n",
    "ax.plot(train_sizes, polyfit(train_sizes, mae_slatm_2_d), color='blue')\n",
    "\n",
    "ax.set_xlabel(\"Number of training instances\")\n",
    "ax.set_ylabel(\"MAE reaction energy / kcal/mol\")\n",
    "plt.legend()\n",
    "plt.tight_layout()\n",
    "plt.show()"
   ]
  },
  {
   "cell_type": "code",
   "execution_count": null,
   "id": "e0f75568",
   "metadata": {},
   "outputs": [],
   "source": []
  }
 ],
 "metadata": {
  "kernelspec": {
   "display_name": "Python [conda env:.conda-b2r2]",
   "language": "python",
   "name": "conda-env-.conda-b2r2-py"
  },
  "language_info": {
   "codemirror_mode": {
    "name": "ipython",
    "version": 3
   },
   "file_extension": ".py",
   "mimetype": "text/x-python",
   "name": "python",
   "nbconvert_exporter": "python",
   "pygments_lexer": "ipython3",
   "version": "3.10.6"
  },
  "latex_envs": {
   "LaTeX_envs_menu_present": true,
   "autoclose": false,
   "autocomplete": true,
   "bibliofile": "biblio.bib",
   "cite_by": "apalike",
   "current_citInitial": 1,
   "eqLabelWithNumbers": true,
   "eqNumInitial": 1,
   "hotkeys": {
    "equation": "Ctrl-E",
    "itemize": "Ctrl-I"
   },
   "labels_anchors": false,
   "latex_user_defs": false,
   "report_style_numbering": false,
   "user_envs_cfg": false
  },
  "toc": {
   "base_numbering": 1,
   "nav_menu": {},
   "number_sections": true,
   "sideBar": true,
   "skip_h1_title": false,
   "title_cell": "Table of Contents",
   "title_sidebar": "Contents",
   "toc_cell": false,
   "toc_position": {},
   "toc_section_display": true,
   "toc_window_display": false
  }
 },
 "nbformat": 4,
 "nbformat_minor": 5
}
