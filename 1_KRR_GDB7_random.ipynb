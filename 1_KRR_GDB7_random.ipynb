{
 "cells": [
  {
   "cell_type": "code",
   "execution_count": 1,
   "metadata": {},
   "outputs": [
    {
     "data": {
      "text/html": [
       "<style>.container { width:100% !important; }</style>"
      ],
      "text/plain": [
       "<IPython.core.display.HTML object>"
      ]
     },
     "metadata": {},
     "output_type": "display_data"
    }
   ],
   "source": [
    "from IPython.display import display, HTML\n",
    "display(HTML(\"<style>.container { width:100% !important; }</style>\"))"
   ]
  },
  {
   "cell_type": "markdown",
   "metadata": {},
   "source": [
    "Below is an example of using the SLATM$_d^2$ reaction representations for the GDB7 dataset."
   ]
  },
  {
   "cell_type": "code",
   "execution_count": 2,
   "metadata": {},
   "outputs": [],
   "source": [
    "import os\n",
    "import pickle as pkl\n",
    "import time\n",
    "\n",
    "import matplotlib.pyplot as plt\n",
    "import numpy as np\n",
    "import pandas as pd\n",
    "from sklearn.model_selection import train_test_split\n",
    "\n",
    "from sklearn.metrics import mean_absolute_error, mean_squared_error\n",
    "\n",
    "import seaborn as sns"
   ]
  },
  {
   "cell_type": "code",
   "execution_count": 3,
   "metadata": {},
   "outputs": [],
   "source": [
    "from src.reaction_reps import QML, B2R2\n",
    "from src.learning import learning_curve, predict_KRR"
   ]
  },
  {
   "cell_type": "code",
   "execution_count": 4,
   "metadata": {},
   "outputs": [],
   "source": [
    "def polyfit(train_sizes, maes):\n",
    "    m, c = np.polyfit(np.log(train_sizes), np.log(maes), 1)\n",
    "    polyfit = np.exp(m * np.log(train_sizes) + c)\n",
    "    return polyfit"
   ]
  },
  {
   "cell_type": "code",
   "execution_count": 5,
   "metadata": {},
   "outputs": [
    {
     "name": "stdout",
     "output_type": "stream",
     "text": [
      "Elapsed time: 7.2 seconds\n"
     ]
    }
   ],
   "source": [
    "start = time.time()\n",
    "b2r2 = B2R2()\n",
    "b2r2.get_gdb7_rxn_data()\n",
    "print(f'Elapsed time: {time.time() - start:.1f} seconds')"
   ]
  },
  {
   "cell_type": "code",
   "execution_count": 6,
   "metadata": {},
   "outputs": [
    {
     "data": {
      "text/html": [
       "<div>\n",
       "<style scoped>\n",
       "    .dataframe tbody tr th:only-of-type {\n",
       "        vertical-align: middle;\n",
       "    }\n",
       "\n",
       "    .dataframe tbody tr th {\n",
       "        vertical-align: top;\n",
       "    }\n",
       "\n",
       "    .dataframe thead th {\n",
       "        text-align: right;\n",
       "    }\n",
       "</style>\n",
       "<table border=\"1\" class=\"dataframe\">\n",
       "  <thead>\n",
       "    <tr style=\"text-align: right;\">\n",
       "      <th></th>\n",
       "      <th>0</th>\n",
       "    </tr>\n",
       "  </thead>\n",
       "  <tbody>\n",
       "    <tr>\n",
       "      <th>count</th>\n",
       "      <td>11961.000000</td>\n",
       "    </tr>\n",
       "    <tr>\n",
       "      <th>mean</th>\n",
       "      <td>83.392466</td>\n",
       "    </tr>\n",
       "    <tr>\n",
       "      <th>std</th>\n",
       "      <td>22.755110</td>\n",
       "    </tr>\n",
       "    <tr>\n",
       "      <th>min</th>\n",
       "      <td>10.727258</td>\n",
       "    </tr>\n",
       "    <tr>\n",
       "      <th>25%</th>\n",
       "      <td>67.287048</td>\n",
       "    </tr>\n",
       "    <tr>\n",
       "      <th>50%</th>\n",
       "      <td>81.519704</td>\n",
       "    </tr>\n",
       "    <tr>\n",
       "      <th>75%</th>\n",
       "      <td>97.646429</td>\n",
       "    </tr>\n",
       "    <tr>\n",
       "      <th>max</th>\n",
       "      <td>204.654825</td>\n",
       "    </tr>\n",
       "  </tbody>\n",
       "</table>\n",
       "</div>"
      ],
      "text/plain": [
       "                  0\n",
       "count  11961.000000\n",
       "mean      83.392466\n",
       "std       22.755110\n",
       "min       10.727258\n",
       "25%       67.287048\n",
       "50%       81.519704\n",
       "75%       97.646429\n",
       "max      204.654825"
      ]
     },
     "execution_count": 6,
     "metadata": {},
     "output_type": "execute_result"
    }
   ],
   "source": [
    "energies = b2r2.barriers\n",
    "pd.DataFrame(energies).describe()"
   ]
  },
  {
   "cell_type": "code",
   "execution_count": 7,
   "metadata": {},
   "outputs": [],
   "source": [
    "# takes about 15 min when not pickled\n",
    "filename = 'GDB7_b2r2_l.pkl'\n",
    "if os.path.exists(f'{filename}'):\n",
    "    with open(f'{filename}', 'rb') as f:\n",
    "        b2r2_l = pkl.load(f)\n",
    "else:\n",
    "    start = time.time()\n",
    "    b2r2_l = b2r2.get_b2r2_l(Rcut=6)\n",
    "    with open(f'{filename}', 'wb') as f:\n",
    "        pkl.dump(b2r2_l, f)\n",
    "    print(f'Elapsed time: {time.time() - start:.1f} seconds')"
   ]
  },
  {
   "cell_type": "code",
   "execution_count": 8,
   "metadata": {},
   "outputs": [
    {
     "name": "stdout",
     "output_type": "stream",
     "text": [
      "Elapsed time: 12.9 seconds\n"
     ]
    }
   ],
   "source": [
    "start = time.time()\n",
    "qml = QML()\n",
    "qml.get_gdb7_rxn_data()\n",
    "print(f'Elapsed time: {time.time() - start:.1f} seconds')"
   ]
  },
  {
   "cell_type": "markdown",
   "metadata": {},
   "source": [
    "# Reproduce Figure 4\n",
    "- SLATM$_d^{(2)}$ \n",
    "- `get_SLATM_twobody()` function [link](https://github.com/lcmd-epfl/b2r2-reaction-rep/blob/master/src/reaction_reps.py#L601)"
   ]
  },
  {
   "cell_type": "code",
   "execution_count": 9,
   "metadata": {},
   "outputs": [
    {
     "name": "stdout",
     "output_type": "stream",
     "text": [
      "Elapsed time: 135.6 seconds\n"
     ]
    }
   ],
   "source": [
    "start = time.time()\n",
    "slatm_2_r, slatm_2_p, slatm_2_d = qml.get_SLATM_twobody()\n",
    "print(f'Elapsed time: {time.time() - start:.1f} seconds')"
   ]
  },
  {
   "cell_type": "markdown",
   "metadata": {},
   "source": [
    "Start by calling their `learning_curve` function.\n",
    "\n",
    "Must use the hyperparameters that they report in the SI for the GDB7 dataset i.e. $\\sigma = 10$ and $\\lambda$ = 1e-4"
   ]
  },
  {
   "cell_type": "code",
   "execution_count": 10,
   "metadata": {},
   "outputs": [
    {
     "name": "stdout",
     "output_type": "stream",
     "text": [
      "CV iteration 0\n",
      "CV iteration 1\n",
      "CV iteration 2\n",
      "CV iteration 3\n",
      "CV iteration 4\n",
      "CV iteration 5\n",
      "CV iteration 6\n",
      "CV iteration 7\n",
      "CV iteration 8\n",
      "CV iteration 9\n",
      "Elapsed time: 881.1 seconds\n"
     ]
    }
   ],
   "source": [
    "start = time.time()\n",
    "train_sizes, mean_maes, stdev = learning_curve(slatm_2_d, energies, CV=10, sigma=10, l2reg=1e-4)\n",
    "print(f'Elapsed time: {time.time() - start:.1f} seconds')"
   ]
  },
  {
   "cell_type": "code",
   "execution_count": 11,
   "metadata": {},
   "outputs": [
    {
     "data": {
      "text/plain": [
       "[1076, 1914, 3404, 6053, 10765]"
      ]
     },
     "execution_count": 11,
     "metadata": {},
     "output_type": "execute_result"
    }
   ],
   "source": [
    "train_sizes"
   ]
  },
  {
   "cell_type": "code",
   "execution_count": 12,
   "metadata": {},
   "outputs": [
    {
     "data": {
      "text/plain": [
       "array([15.11638906, 13.56011588, 11.97437725, 10.86092365,  9.89202551])"
      ]
     },
     "execution_count": 12,
     "metadata": {},
     "output_type": "execute_result"
    }
   ],
   "source": [
    "mean_maes"
   ]
  },
  {
   "cell_type": "code",
   "execution_count": 13,
   "metadata": {},
   "outputs": [
    {
     "data": {
      "text/plain": [
       "array([0.43744217, 0.59717903, 0.28681904, 0.39050575, 0.36949154])"
      ]
     },
     "execution_count": 13,
     "metadata": {},
     "output_type": "execute_result"
    }
   ],
   "source": [
    "stdev"
   ]
  },
  {
   "cell_type": "code",
   "execution_count": 14,
   "metadata": {},
   "outputs": [
    {
     "data": {
      "image/png": "[encoded data removed]",
      "text/plain": [
       "<Figure size 640x480 with 1 Axes>"
      ]
     },
     "metadata": {},
     "output_type": "display_data"
    }
   ],
   "source": [
    "fig, ax = plt.subplots(nrows=1, ncols=1)\n",
    "ax.set_xscale('log')\n",
    "ax.set_yscale('log')\n",
    "\n",
    "ax.scatter(train_sizes, mean_maes, color='blue', label='SLATM$_d^{(2)}$')\n",
    "ax.plot(train_sizes, polyfit(train_sizes, mean_maes), color='blue')\n",
    "\n",
    "ax.set_xlabel(\"Number of training instances\")\n",
    "ax.set_ylabel(\"MAE reaction energy / kcal/mol\")\n",
    "plt.legend()\n",
    "plt.tight_layout()\n",
    "plt.show()"
   ]
  },
  {
   "cell_type": "markdown",
   "metadata": {},
   "source": [
    "Rewrite the `learning_curve` [function](https://github.com/lcmd-epfl/b2r2-reaction-rep/blob/master/src/learning.py#L61) so that it does train, val, test split. Technically, we should use the validation set to optimized the hyperparameters, but here, we simply use the published set of hyperparameters from van Gerwen et al. We also specify the random seeds so results are reproducible."
   ]
  },
  {
   "cell_type": "code",
   "execution_count": 15,
   "metadata": {},
   "outputs": [],
   "source": [
    "def learning_curve_updated(X, y, CV=5, n_points=5, seed=100, sigma=1, l2reg=1e-6):\n",
    "    # 0 is the smallest training size, n_points is the largest size\n",
    "    splits = {i: [] for i in range(n_points)}\n",
    "    preds = {i: [] for i in range(n_points)}\n",
    "    targets = {i: [] for i in range(n_points)}\n",
    "    \n",
    "    train_fractions = np.logspace(-1, 0, num=n_points, endpoint=True)\n",
    "\n",
    "    maes = np.zeros((CV, n_points))\n",
    "    \n",
    "    for i, seed in enumerate(range(CV)):\n",
    "        print('*'*88)\n",
    "        print(\"CV iteration\", i)\n",
    "\n",
    "        # create 85:5:10 split\n",
    "        # by default, shuffle=True\n",
    "        # https://scikit-learn.org/stable/modules/generated/sklearn.model_selection.train_test_split.html\n",
    "        train_indices, test_indices, _, _ = train_test_split(np.arange(len(y)), y, test_size=0.15, random_state=seed)\n",
    "        val_indices, test_indices, _, _ = train_test_split(test_indices, test_indices, test_size=2/3, random_state=seed)\n",
    "        \n",
    "        print(f'train_indices.shape: {train_indices.shape}')\n",
    "        print(f'val_indices.shape: {val_indices.shape}')\n",
    "        print(f'test_indices.shape: {test_indices.shape}')\n",
    "        train_sizes = [int(len(train_indices) * x) for x in train_fractions]\n",
    "        print(f'train_sizes: {train_sizes}')\n",
    "\n",
    "        for j, train_size in enumerate(train_sizes):\n",
    "            train_indices_tmp = train_indices[:train_size]\n",
    "            \n",
    "            # append subsplits for this fold\n",
    "            splits[j].append([train_indices_tmp, val_indices, test_indices])\n",
    "            X_train = X[train_indices_tmp]\n",
    "            y_train = y[train_indices_tmp]\n",
    "            X_test = X[test_indices]\n",
    "            y_test = y[test_indices]                                       \n",
    "                                                             \n",
    "            mae, y_pred = predict_KRR(X_train, X_test, y_train, y_test, sigma=sigma, l2reg=l2reg)\n",
    "            preds[j].append(y_pred)\n",
    "            targets[j].append(y_test)\n",
    "            maes[i, j] = mae\n",
    "        \n",
    "    return train_sizes, splits, preds, targets, maes"
   ]
  },
  {
   "cell_type": "code",
   "execution_count": 16,
   "metadata": {},
   "outputs": [
    {
     "name": "stdout",
     "output_type": "stream",
     "text": [
      "****************************************************************************************\n",
      "CV iteration 0\n",
      "train_indices.shape: (10166,)\n",
      "val_indices.shape: (598,)\n",
      "test_indices.shape: (1197,)\n",
      "train_sizes: [1016, 1807, 3214, 5716, 10166]\n",
      "****************************************************************************************\n",
      "CV iteration 1\n",
      "train_indices.shape: (10166,)\n",
      "val_indices.shape: (598,)\n",
      "test_indices.shape: (1197,)\n",
      "train_sizes: [1016, 1807, 3214, 5716, 10166]\n",
      "****************************************************************************************\n",
      "CV iteration 2\n",
      "train_indices.shape: (10166,)\n",
      "val_indices.shape: (598,)\n",
      "test_indices.shape: (1197,)\n",
      "train_sizes: [1016, 1807, 3214, 5716, 10166]\n",
      "****************************************************************************************\n",
      "CV iteration 3\n",
      "train_indices.shape: (10166,)\n",
      "val_indices.shape: (598,)\n",
      "test_indices.shape: (1197,)\n",
      "train_sizes: [1016, 1807, 3214, 5716, 10166]\n",
      "****************************************************************************************\n",
      "CV iteration 4\n",
      "train_indices.shape: (10166,)\n",
      "val_indices.shape: (598,)\n",
      "test_indices.shape: (1197,)\n",
      "train_sizes: [1016, 1807, 3214, 5716, 10166]\n",
      "Elapsed time: 423.9 seconds\n"
     ]
    }
   ],
   "source": [
    "# takes about 2 min for each CV iteration\n",
    "start = time.time()\n",
    "train_sizes, splits, preds, targets, maes = learning_curve_updated(slatm_2_d, energies, CV=5, sigma=10, l2reg=1e-4)\n",
    "print(f'Elapsed time: {time.time() - start:.1f} seconds')"
   ]
  },
  {
   "cell_type": "code",
   "execution_count": 17,
   "metadata": {},
   "outputs": [
    {
     "data": {
      "text/plain": [
       "[1016, 1807, 3214, 5716, 10166]"
      ]
     },
     "execution_count": 17,
     "metadata": {},
     "output_type": "execute_result"
    }
   ],
   "source": [
    "train_sizes"
   ]
  },
  {
   "cell_type": "code",
   "execution_count": 18,
   "metadata": {},
   "outputs": [
    {
     "data": {
      "text/plain": [
       "array([[15.76252655, 14.31841049, 12.27019986, 10.76153489,  9.87542626],\n",
       "       [15.85105886, 12.89486858, 11.83772153, 10.85053551,  9.91353425],\n",
       "       [15.37387864, 13.62687956, 11.91487975, 10.56608872,  9.91369647],\n",
       "       [15.66667587, 13.9759413 , 12.69399708, 11.59993732, 10.31947603],\n",
       "       [14.70636627, 12.6512138 , 11.46897873, 10.83440395, 10.05001658]])"
      ]
     },
     "execution_count": 18,
     "metadata": {},
     "output_type": "execute_result"
    }
   ],
   "source": [
    "maes"
   ]
  },
  {
   "cell_type": "code",
   "execution_count": 19,
   "metadata": {},
   "outputs": [
    {
     "name": "stdout",
     "output_type": "stream",
     "text": [
      "****************************************************************************************\n",
      "(1807,)\n",
      "(598,)\n",
      "(1197,)\n",
      "****************************************************************************************\n",
      "(1807,)\n",
      "(598,)\n",
      "(1197,)\n",
      "****************************************************************************************\n",
      "(1807,)\n",
      "(598,)\n",
      "(1197,)\n",
      "****************************************************************************************\n",
      "(1807,)\n",
      "(598,)\n",
      "(1197,)\n",
      "****************************************************************************************\n",
      "(1807,)\n",
      "(598,)\n",
      "(1197,)\n"
     ]
    }
   ],
   "source": [
    "for train, val, test in splits[1]:\n",
    "    print('*'*88)\n",
    "    print(train.shape)\n",
    "    print(val.shape)\n",
    "    print(test.shape)"
   ]
  },
  {
   "cell_type": "markdown",
   "metadata": {},
   "source": [
    "Pickle the results"
   ]
  },
  {
   "cell_type": "code",
   "execution_count": 20,
   "metadata": {},
   "outputs": [],
   "source": [
    "with open('GDB7_random_splits.pkl', 'wb') as f:\n",
    "    pkl.dump(splits, f)"
   ]
  },
  {
   "cell_type": "code",
   "execution_count": 21,
   "metadata": {},
   "outputs": [],
   "source": [
    "for i, train_size in enumerate(train_sizes):\n",
    "    folds = []\n",
    "    for train, val, test in splits[i]:\n",
    "        # train = train[:train_size]\n",
    "        assert len(train) == train_size\n",
    "        folds.append([train, val, test])\n",
    "    with open(f'data/GDB7-20-TS/GDB7_random_split_indices_train_size_{train_size}.pkl', 'wb') as f:\n",
    "        pkl.dump(folds, f)"
   ]
  },
  {
   "cell_type": "code",
   "execution_count": 22,
   "metadata": {},
   "outputs": [],
   "source": [
    "with open('GDB7_random_splits_predictions.pkl', 'wb') as f:\n",
    "    pkl.dump(preds, f)"
   ]
  },
  {
   "cell_type": "code",
   "execution_count": 23,
   "metadata": {},
   "outputs": [],
   "source": [
    "with open('GDB7_random_splits_targets.pkl', 'wb') as f:\n",
    "    pkl.dump(targets, f)"
   ]
  },
  {
   "cell_type": "code",
   "execution_count": 24,
   "metadata": {},
   "outputs": [],
   "source": [
    "with open('GDB7_random_splits_maes.pkl', 'wb') as f:\n",
    "    pkl.dump(maes, f)"
   ]
  },
  {
   "cell_type": "markdown",
   "metadata": {},
   "source": [
    "Load the results"
   ]
  },
  {
   "cell_type": "code",
   "execution_count": 25,
   "metadata": {},
   "outputs": [],
   "source": [
    "with open('GDB7_random_splits.pkl', 'rb') as f:\n",
    "    splits = pkl.load(f)"
   ]
  },
  {
   "cell_type": "code",
   "execution_count": 26,
   "metadata": {},
   "outputs": [],
   "source": [
    "with open('GDB7_random_splits_predictions.pkl', 'rb') as f:\n",
    "    preds = pkl.load(f)"
   ]
  },
  {
   "cell_type": "code",
   "execution_count": 27,
   "metadata": {},
   "outputs": [],
   "source": [
    "with open('GDB7_random_splits_targets.pkl', 'rb') as f:\n",
    "    targets = pkl.load(f)"
   ]
  },
  {
   "cell_type": "code",
   "execution_count": 28,
   "metadata": {},
   "outputs": [],
   "source": [
    "with open('GDB7_random_splits_maes.pkl', 'rb') as f:\n",
    "    maes = pkl.load(f)"
   ]
  },
  {
   "cell_type": "markdown",
   "metadata": {},
   "source": [
    "The predictions are centered at 0 which is good. But some of these predictions have enormous errors.\n",
    "- When using only 1016 training reactions, the test predictions have some differences that are off by 100-200 kcal/mol\n",
    "- Even when using all 10,166 training reactions, still some test predictions are off by 70-135 kcal/mol"
   ]
  },
  {
   "cell_type": "code",
   "execution_count": 29,
   "metadata": {},
   "outputs": [
    {
     "name": "stdout",
     "output_type": "stream",
     "text": [
      "****************************************************************************************\n",
      "training size had 1016 examples\n",
      "test size was 1197\n",
      "Ea MAE: 15.762527 kcal/mol\n",
      "min: -204.04 kcal/mol\t max: 132.13 kcal/mol\n",
      "mean: 0.87 kcal/mol\t std: 23.10 kcal/mol\n",
      "****************************************************************************************\n",
      "training size had 1016 examples\n",
      "test size was 1197\n",
      "Ea MAE: 15.851059 kcal/mol\n",
      "min: -111.97 kcal/mol\t max: 147.69 kcal/mol\n",
      "mean: -0.99 kcal/mol\t std: 23.18 kcal/mol\n",
      "****************************************************************************************\n",
      "training size had 1016 examples\n",
      "test size was 1197\n",
      "Ea MAE: 15.373879 kcal/mol\n",
      "min: -91.45 kcal/mol\t max: 136.73 kcal/mol\n",
      "mean: -0.11 kcal/mol\t std: 22.03 kcal/mol\n",
      "****************************************************************************************\n",
      "training size had 1016 examples\n",
      "test size was 1197\n",
      "Ea MAE: 15.666676 kcal/mol\n",
      "min: -117.27 kcal/mol\t max: 149.34 kcal/mol\n",
      "mean: 1.07 kcal/mol\t std: 23.60 kcal/mol\n",
      "****************************************************************************************\n",
      "training size had 1016 examples\n",
      "test size was 1197\n",
      "Ea MAE: 14.706366 kcal/mol\n",
      "min: -138.69 kcal/mol\t max: 177.14 kcal/mol\n",
      "mean: -0.65 kcal/mol\t std: 21.33 kcal/mol\n"
     ]
    },
    {
     "data": {
      "text/plain": [
       "Text(0.5, 0, 'Error (kcal/mol)')"
      ]
     },
     "execution_count": 29,
     "metadata": {},
     "output_type": "execute_result"
    },
    {
     "data": {
      "image/png": "[encoded data removed]",
      "text/plain": [
       "<Figure size 400x400 with 1 Axes>"
      ]
     },
     "metadata": {},
     "output_type": "display_data"
    }
   ],
   "source": [
    "color = '#721f81'  # dark purple\n",
    "ii = 0\n",
    "f, ax = plt.subplots(figsize=(4, 4))\n",
    "for pred, target in zip(preds[ii], targets[ii]):\n",
    "    print('*'*88)\n",
    "    print(f'training size had {len(splits[ii][0][0])} examples')\n",
    "    # make sure the testing size is the same \n",
    "    assert len(splits[ii][0][2]) == len(pred)\n",
    "    print(f'test size was {len(pred)}')\n",
    "    mae = mean_absolute_error(target, pred.flatten())\n",
    "    print(f'Ea MAE: {mae:.6f} kcal/mol')\n",
    "    \n",
    "    residuals = target - pred.flatten()\n",
    "    print(f'min: {np.min(residuals):.2f} kcal/mol\\t max: {np.max(residuals):.2f} kcal/mol')\n",
    "    print(f'mean: {np.mean(residuals):.2f} kcal/mol\\t std: {np.std(residuals):.2f} kcal/mol')\n",
    "\n",
    "# just plot a histogram for the last results\n",
    "sns.histplot(residuals, \n",
    "             color=color,\n",
    "             bins=60, stat='probability', edgecolor=\"k\")\n",
    "\n",
    "ax.set_xlabel('Error (kcal/mol)')"
   ]
  },
  {
   "cell_type": "code",
   "execution_count": 30,
   "metadata": {},
   "outputs": [
    {
     "name": "stdout",
     "output_type": "stream",
     "text": [
      "****************************************************************************************\n",
      "training size had 10166 examples\n",
      "test size was 1197\n",
      "Ea MAE: 9.875426 kcal/mol\n",
      "min: -75.01 kcal/mol\t max: 116.10 kcal/mol\n",
      "mean: 0.36 kcal/mol\t std: 14.59 kcal/mol\n",
      "****************************************************************************************\n",
      "training size had 10166 examples\n",
      "test size was 1197\n",
      "Ea MAE: 9.913534 kcal/mol\n",
      "min: -72.27 kcal/mol\t max: 81.89 kcal/mol\n",
      "mean: -0.14 kcal/mol\t std: 14.67 kcal/mol\n",
      "****************************************************************************************\n",
      "training size had 10166 examples\n",
      "test size was 1197\n",
      "Ea MAE: 9.913696 kcal/mol\n",
      "min: -87.36 kcal/mol\t max: 75.06 kcal/mol\n",
      "mean: 0.27 kcal/mol\t std: 14.69 kcal/mol\n",
      "****************************************************************************************\n",
      "training size had 10166 examples\n",
      "test size was 1197\n",
      "Ea MAE: 10.319476 kcal/mol\n",
      "min: -86.85 kcal/mol\t max: 136.17 kcal/mol\n",
      "mean: 0.15 kcal/mol\t std: 15.56 kcal/mol\n",
      "****************************************************************************************\n",
      "training size had 10166 examples\n",
      "test size was 1197\n",
      "Ea MAE: 10.050017 kcal/mol\n",
      "min: -136.42 kcal/mol\t max: 67.40 kcal/mol\n",
      "mean: -1.14 kcal/mol\t std: 14.92 kcal/mol\n"
     ]
    },
    {
     "data": {
      "text/plain": [
       "Text(0.5, 0, 'Error (kcal/mol)')"
      ]
     },
     "execution_count": 30,
     "metadata": {},
     "output_type": "execute_result"
    },
    {
     "data": {
      "image/png": "[encoded data removed]",
      "text/plain": [
       "<Figure size 400x400 with 1 Axes>"
      ]
     },
     "metadata": {},
     "output_type": "display_data"
    }
   ],
   "source": [
    "color = '#721f81'  # dark purple\n",
    "ii = 4\n",
    "f, ax = plt.subplots(figsize=(4, 4))\n",
    "for pred, target in zip(preds[ii], targets[ii]):\n",
    "    print('*'*88)\n",
    "    print(f'training size had {len(splits[ii][0][0])} examples')\n",
    "    # make sure the testing size is the same \n",
    "    assert len(splits[ii][0][2]) == len(pred)\n",
    "    print(f'test size was {len(pred)}')\n",
    "    mae = mean_absolute_error(target, pred.flatten())\n",
    "    print(f'Ea MAE: {mae:.6f} kcal/mol')\n",
    "    \n",
    "    residuals = target - pred.flatten()\n",
    "    print(f'min: {np.min(residuals):.2f} kcal/mol\\t max: {np.max(residuals):.2f} kcal/mol')\n",
    "    print(f'mean: {np.mean(residuals):.2f} kcal/mol\\t std: {np.std(residuals):.2f} kcal/mol')\n",
    "\n",
    "# just plot a histogram for the last results\n",
    "sns.histplot(residuals, \n",
    "             color=color,\n",
    "             bins=60, stat='probability', edgecolor=\"k\")\n",
    "\n",
    "ax.set_xlabel('Error (kcal/mol)')"
   ]
  },
  {
   "cell_type": "code",
   "execution_count": 31,
   "metadata": {},
   "outputs": [],
   "source": [
    "mae_slatm_2_d = np.mean(maes, axis=0)\n",
    "std_slatm_2_d = np.std(maes, axis=0)"
   ]
  },
  {
   "cell_type": "code",
   "execution_count": 32,
   "metadata": {},
   "outputs": [
    {
     "data": {
      "text/plain": [
       "array([15.47210124, 13.49346275, 12.03715539, 10.92250008, 10.01442992])"
      ]
     },
     "execution_count": 32,
     "metadata": {},
     "output_type": "execute_result"
    }
   ],
   "source": [
    "mae_slatm_2_d"
   ]
  },
  {
   "cell_type": "code",
   "execution_count": 33,
   "metadata": {},
   "outputs": [
    {
     "data": {
      "text/plain": [
       "array([0.41516569, 0.63226935, 0.41552392, 0.35349678, 0.16368795])"
      ]
     },
     "execution_count": 33,
     "metadata": {},
     "output_type": "execute_result"
    }
   ],
   "source": [
    "std_slatm_2_d"
   ]
  },
  {
   "cell_type": "code",
   "execution_count": 34,
   "metadata": {},
   "outputs": [
    {
     "data": {
      "image/png": "[encoded data removed]",
      "text/plain": [
       "<Figure size 640x480 with 1 Axes>"
      ]
     },
     "metadata": {},
     "output_type": "display_data"
    }
   ],
   "source": [
    "fig, ax = plt.subplots(nrows=1, ncols=1)\n",
    "ax.set_xscale('log')\n",
    "ax.set_yscale('log')\n",
    "\n",
    "ax.scatter(train_sizes, mae_slatm_2_d, color='blue', label='SLATM$_d^{(2)}$')\n",
    "ax.plot(train_sizes, polyfit(train_sizes, mae_slatm_2_d), color='blue')\n",
    "\n",
    "ax.set_xlabel(\"Number of training instances\")\n",
    "ax.set_ylabel(\"MAE reaction energy / kcal/mol\")\n",
    "plt.legend()\n",
    "plt.tight_layout()\n",
    "plt.show()"
   ]
  },
  {
   "cell_type": "code",
   "execution_count": null,
   "metadata": {},
   "outputs": [],
   "source": []
  }
 ],
 "metadata": {
  "kernelspec": {
   "display_name": "Python [conda env:.conda-b2r2]",
   "language": "python",
   "name": "conda-env-.conda-b2r2-py"
  },
  "language_info": {
   "codemirror_mode": {
    "name": "ipython",
    "version": 3
   },
   "file_extension": ".py",
   "mimetype": "text/x-python",
   "name": "python",
   "nbconvert_exporter": "python",
   "pygments_lexer": "ipython3",
   "version": "3.10.6"
  },
  "latex_envs": {
   "LaTeX_envs_menu_present": true,
   "autoclose": false,
   "autocomplete": true,
   "bibliofile": "biblio.bib",
   "cite_by": "apalike",
   "current_citInitial": 1,
   "eqLabelWithNumbers": true,
   "eqNumInitial": 1,
   "hotkeys": {
    "equation": "Ctrl-E",
    "itemize": "Ctrl-I"
   },
   "labels_anchors": false,
   "latex_user_defs": false,
   "report_style_numbering": false,
   "user_envs_cfg": false
  },
  "toc": {
   "base_numbering": 1,
   "nav_menu": {},
   "number_sections": true,
   "sideBar": true,
   "skip_h1_title": false,
   "title_cell": "Table of Contents",
   "title_sidebar": "Contents",
   "toc_cell": false,
   "toc_position": {},
   "toc_section_display": true,
   "toc_window_display": false
  }
 },
 "nbformat": 4,
 "nbformat_minor": 4
}
